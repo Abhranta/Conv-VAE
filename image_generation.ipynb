{
 "cells": [
  {
   "cell_type": "code",
   "execution_count": null,
   "metadata": {},
   "outputs": [],
   "source": [
    "import numpy as np\n",
    "import torch\n",
    "import matplotlib.pyplot as plt"
   ]
  },
  {
   "cell_type": "code",
   "execution_count": null,
   "metadata": {},
   "outputs": [],
   "source": [
    "#Here we are going to send noise through the network decoder.\n",
    "#This noise is sampled from a normal distribution of mean=0 and variance =1\n",
    "#The decoder will create images from this noise.\n",
    "\n",
    "\n",
    "def generate_faces(n_to_show = 10):\n",
    "    state_dict = torch.load(r\"C:\\Users\\Abhrant\\Desktop\\abhrant\\work\\DEEP_LEARNING\\vae_weight.pt\" , \n",
    "             map_location = 'cuda:0')\n",
    "    vae.load_state_dict(state_dict)\n",
    "    vae.eval()\n",
    "    vae.cuda()\n",
    "    noise = torch.from_numpy(np.random.normal(0 , 1 , (n_to_show , 32))).float().to(\"cuda\")\n",
    "    recon_img = vae.decode(noise)\n",
    "    \n",
    "    fig = plt.figure(figsize = (15 , 3))\n",
    "    fig.subplots_adjust(hspace = 0.4 , wspace = 0.4)\n",
    "    \n",
    "    for i in range(n_to_show):\n",
    "        img = recon_img[i].squeeze().detach().to(\"cpu\")\n",
    "        sub = fig.add_subplot(2 , n_to_show , i+1)\n",
    "        sub.axis(\"off\")\n",
    "        sub.imshow(img.permute(1,2,0))\n",
    "        "
   ]
  }
 ],
 "metadata": {
  "kernelspec": {
   "display_name": "Python 3",
   "language": "python",
   "name": "python3"
  },
  "language_info": {
   "codemirror_mode": {
    "name": "ipython",
    "version": 3
   },
   "file_extension": ".py",
   "mimetype": "text/x-python",
   "name": "python",
   "nbconvert_exporter": "python",
   "pygments_lexer": "ipython3",
   "version": "3.7.7"
  }
 },
 "nbformat": 4,
 "nbformat_minor": 4
}
