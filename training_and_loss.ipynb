{
 "cells": [
  {
   "cell_type": "code",
   "execution_count": null,
   "metadata": {},
   "outputs": [],
   "source": [
    "import torch\n",
    "from torch.utils.data import Dataset \n",
    "import  tqdm\n",
    " \n",
    "import torch.nn as nn\n",
    "import torch.optim as optim\n",
    "from torch.utils.data import DataLoader\n",
    "import matplotlib.pyplot as plt\n",
    "from tqdm import tqdm\n",
    "import torch.nn.functional as F"
   ]
  },
  {
   "cell_type": "code",
   "execution_count": null,
   "metadata": {},
   "outputs": [],
   "source": [
    "#Here we are adding the normal loss of variational autoencoders.\n",
    "#loss = Reconstruction Loss + KL-Divergence\n",
    "\n",
    "def loss_function(recon_x , x , mu , logvar):\n",
    "    BCE = F.binary_cross_entropy(recon_x , x , reduction = \"sum\")\n",
    "    KLD = -0.5 * torch.sum(1 + logvar - mu**2 - logvar.exp())\n",
    "    return torch.mean(BCE + KLD)"
   ]
  },
  {
   "cell_type": "code",
   "execution_count": null,
   "metadata": {},
   "outputs": [],
   "source": [
    "optimizer = optim.RMSprop(vae.parameters() , lr = 0.001)"
   ]
  },
  {
   "cell_type": "code",
   "execution_count": null,
   "metadata": {},
   "outputs": [],
   "source": [
    "EPOCHS = 200\n",
    "\n",
    "loss_list = []\n",
    "epoch_list = []\n",
    "\n",
    "for epoch in range(EPOCHS):\n",
    "    epoch_list.append(epoch)\n",
    "    train_loss = 0\n",
    "    \n",
    "    for i in tqdm(image_loader):\n",
    "            input_img = i.to(\"cuda\")\n",
    "\n",
    "            optimizer.zero_grad()\n",
    "            output , mu , logvar = vae.forward(input_img)\n",
    "\n",
    "            loss = loss_function(output , input_img , mu , logvar)\n",
    "            \n",
    "            loss.backward()\n",
    "            optimizer.step()\n",
    "            train_loss += loss.item() \n",
    "            input_img.to(\"cpu\")  \n",
    "       \n",
    "    train_loss = train_loss / len(image_loader)\n",
    "    loss_list.append(train_loss)\n",
    "    print(epoch , train_loss)\n",
    "#Now , we will save the model state in a weight file\n",
    "torch.save(vae.state_dict() , r\"C:\\Users\\Abhrant\\Desktop\\abhrant\\work\\DEEP_LEARNING\\vae_weight.pt\")\n",
    "plt.plot(epoch_list , loss_list)\n",
    "plt.show()"
   ]
  }
 ],
 "metadata": {
  "kernelspec": {
   "display_name": "Python 3",
   "language": "python",
   "name": "python3"
  },
  "language_info": {
   "codemirror_mode": {
    "name": "ipython",
    "version": 3
   },
   "file_extension": ".py",
   "mimetype": "text/x-python",
   "name": "python",
   "nbconvert_exporter": "python",
   "pygments_lexer": "ipython3",
   "version": "3.7.7"
  }
 },
 "nbformat": 4,
 "nbformat_minor": 4
}
